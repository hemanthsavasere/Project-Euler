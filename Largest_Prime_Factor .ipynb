{
 "cells": [
  {
   "cell_type": "code",
   "execution_count": 21,
   "metadata": {},
   "outputs": [
    {
     "name": "stdout",
     "output_type": "stream",
     "text": [
      "6857\n"
     ]
    }
   ],
   "source": [
    "k = 600851475143\n",
    "n = int(600851475143 ** 0.5) + 1\n",
    "arr = [0 for i in range(0, n+1)]\n",
    "\n",
    "for i in range(2, int(n ** 0.5) + 1):\n",
    "    if arr[i] == 0:\n",
    "        j = i*2\n",
    "        arr[j] = 1\n",
    "        while j <= n:\n",
    "            arr[j] = 1\n",
    "            j += i\n",
    "\n",
    "brr = []\n",
    "\n",
    "for i in range(2, n):\n",
    "    if not arr[i]:\n",
    "        brr.append(i)\n",
    "\n",
    "arr = []\n",
    "\n",
    "max_prime = 1\n",
    "for i in brr:\n",
    "    if k % i == 0 and i > max_prime:\n",
    "        max_prime = i\n",
    "\n",
    "if max_prime == 1:\n",
    "    print(k)\n",
    "\n",
    "print(max_prime)"
   ]
  }
 ],
 "metadata": {
  "kernelspec": {
   "display_name": "Python 3",
   "language": "python",
   "name": "python3"
  },
  "language_info": {
   "codemirror_mode": {
    "name": "ipython",
    "version": 3
   },
   "file_extension": ".py",
   "mimetype": "text/x-python",
   "name": "python",
   "nbconvert_exporter": "python",
   "pygments_lexer": "ipython3",
   "version": "3.6.5"
  }
 },
 "nbformat": 4,
 "nbformat_minor": 2
}
