{
 "cells": [
  {
   "cell_type": "code",
   "execution_count": 25,
   "metadata": {},
   "outputs": [
    {
     "name": "stdout",
     "output_type": "stream",
     "text": [
      "99500\n"
     ]
    }
   ],
   "source": [
    "l1 = 995\n",
    "a1 = 5\n",
    "n1 = (l1 // a1) \n",
    "sn1 = ((n1)*(a1 + l1)) // 2\n",
    "print(sn1)"
   ]
  },
  {
   "cell_type": "code",
   "execution_count": 33,
   "metadata": {
    "scrolled": true
   },
   "outputs": [
    {
     "name": "stdout",
     "output_type": "stream",
     "text": [
      "233168\n"
     ]
    }
   ],
   "source": [
    "l2 = 999\n",
    "a2 = 3\n",
    "n2 = (l2 // a2)\n",
    "sn2 = (n2 * (a2 + l2)) // 2\n",
    "print(sn2 + sn1 - 33165)\n"
   ]
  }
 ],
 "metadata": {
  "kernelspec": {
   "display_name": "Python 3",
   "language": "python",
   "name": "python3"
  },
  "language_info": {
   "codemirror_mode": {
    "name": "ipython",
    "version": 3
   },
   "file_extension": ".py",
   "mimetype": "text/x-python",
   "name": "python",
   "nbconvert_exporter": "python",
   "pygments_lexer": "ipython3",
   "version": "3.6.5"
  }
 },
 "nbformat": 4,
 "nbformat_minor": 2
}
