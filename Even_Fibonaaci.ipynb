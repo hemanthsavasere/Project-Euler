{
 "cells": [
  {
   "cell_type": "code",
   "execution_count": 14,
   "metadata": {},
   "outputs": [
    {
     "data": {
      "text/plain": [
       "4613732"
      ]
     },
     "execution_count": 14,
     "metadata": {},
     "output_type": "execute_result"
    }
   ],
   "source": [
    "n = 4000000\n",
    "arr = []\n",
    "arr.append(0)\n",
    "arr.append(1)\n",
    "\n",
    "for i in range(2, 90):\n",
    "    n = arr[i-1] + arr[i-2]\n",
    "    if n >= 4000000:\n",
    "        break\n",
    "    arr.append(n)\n",
    "    \n",
    "summ = sum([arr[i] for i in range(len(arr)) if arr[i] % 2 == 0])\n",
    "summ"
   ]
  }
 ],
 "metadata": {
  "kernelspec": {
   "display_name": "Python 3",
   "language": "python",
   "name": "python3"
  },
  "language_info": {
   "codemirror_mode": {
    "name": "ipython",
    "version": 3
   },
   "file_extension": ".py",
   "mimetype": "text/x-python",
   "name": "python",
   "nbconvert_exporter": "python",
   "pygments_lexer": "ipython3",
   "version": "3.6.5"
  }
 },
 "nbformat": 4,
 "nbformat_minor": 2
}
