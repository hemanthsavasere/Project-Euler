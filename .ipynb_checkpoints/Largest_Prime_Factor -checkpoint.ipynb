{
 "cells": [
  {
   "cell_type": "code",
   "execution_count": 2,
   "metadata": {},
   "outputs": [
    {
     "data": {
      "text/plain": [
       "775147"
      ]
     },
     "execution_count": 2,
     "metadata": {},
     "output_type": "execute_result"
    }
   ],
   "source": [
    "n = int(600851475143 ** 0.5) + 1\n",
    "arr = [0 for i in range(0, n+1)]\n",
    "\n",
    "for i in range(2, int(n ** 0.5) + 1):\n",
    "    if arr[i] == 0:\n",
    "        j = i*2\n",
    "        arr[j] = 1\n",
    "        while j <= n:\n",
    "            arr[j] = 1\n",
    "            j += i\n",
    "    \n",
    "        "
   ]
  }
 ],
 "metadata": {
  "kernelspec": {
   "display_name": "Python 3",
   "language": "python",
   "name": "python3"
  },
  "language_info": {
   "codemirror_mode": {
    "name": "ipython",
    "version": 3
   },
   "file_extension": ".py",
   "mimetype": "text/x-python",
   "name": "python",
   "nbconvert_exporter": "python",
   "pygments_lexer": "ipython3",
   "version": "3.6.5"
  }
 },
 "nbformat": 4,
 "nbformat_minor": 2
}
